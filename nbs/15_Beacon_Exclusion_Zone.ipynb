{
 "cells": [
  {
   "cell_type": "markdown",
   "id": "b1ec6ff8",
   "metadata": {},
   "source": [
    "# Day 15: Beacon Exclusion Zone"
   ]
  },
  {
   "cell_type": "markdown",
   "id": "71ce74a7",
   "metadata": {},
   "source": [
    "## Part 1"
   ]
  },
  {
   "cell_type": "code",
   "execution_count": null,
   "id": "f9760008",
   "metadata": {},
   "outputs": [],
   "source": [
    "from aoc_2023 import core\n",
    "\n",
    "\n",
    "_example = \"\"\"Sensor at x=2, y=18: closest beacon is at x=-2, y=15\n",
    "Sensor at x=9, y=16: closest beacon is at x=10, y=16\n",
    "Sensor at x=13, y=2: closest beacon is at x=15, y=3\n",
    "Sensor at x=12, y=14: closest beacon is at x=10, y=16\n",
    "Sensor at x=10, y=20: closest beacon is at x=10, y=16\n",
    "Sensor at x=14, y=17: closest beacon is at x=10, y=16\n",
    "Sensor at x=8, y=7: closest beacon is at x=2, y=10\n",
    "Sensor at x=2, y=0: closest beacon is at x=2, y=10\n",
    "Sensor at x=0, y=11: closest beacon is at x=2, y=10\n",
    "Sensor at x=20, y=14: closest beacon is at x=25, y=17\n",
    "Sensor at x=17, y=20: closest beacon is at x=21, y=22\n",
    "Sensor at x=16, y=7: closest beacon is at x=15, y=3\n",
    "Sensor at x=14, y=3: closest beacon is at x=15, y=3\n",
    "Sensor at x=20, y=1: closest beacon is at x=15, y=3\"\"\"\n",
    "_test = core.read_input(\"../data/day_15.txt\")"
   ]
  },
  {
   "cell_type": "code",
   "execution_count": null,
   "id": "8bdc904e",
   "metadata": {},
   "outputs": [],
   "source": [
    "import re\n",
    "\n",
    "from dataclasses import dataclass\n",
    "\n",
    "\n",
    "@dataclass(frozen=True)\n",
    "class Position:\n",
    "    x: int\n",
    "    y: int\n",
    "\n",
    "        \n",
    "def manhattan_distance(a: Position, b: Position):\n",
    "    return abs(a.x - b.x) + abs(a.y - b.y)\n",
    "        \n",
    "\n",
    "def intersection(sensor: Position, beacon: Position, y: int) -> tuple[int, int] | None:\n",
    "    distance = manhattan_distance(sensor, beacon)\n",
    "    if sensor.y - distance <= y <= sensor.y + distance:\n",
    "        dx = distance - abs(y - sensor.y)\n",
    "        return tuple(sorted([sensor.x - dx, sensor.x + dx]))\n",
    "    return None\n",
    "\n",
    "\n",
    "def parse(s: str) -> list[tuple[Position, Position]]:\n",
    "    acc = []\n",
    "    for line in s.split(\"\\n\"):\n",
    "        if not line:\n",
    "            continue\n",
    "        match = re.search(r\".*x=(-?\\d+), y=(-?\\d+).*x=(-?\\d+), y=(-?\\d+)\", line)\n",
    "        acc += [(Position(int(match[1]), int(match[2])), Position(int(match[3]), int(match[4])))]\n",
    "    return acc"
   ]
  },
  {
   "cell_type": "code",
   "execution_count": null,
   "id": "375690fc",
   "metadata": {},
   "outputs": [],
   "source": [
    "import functools\n",
    "\n",
    "\n",
    "def intersections(pairs: list[tuple[Position, Position]], a: int, b: int) -> list[list[tuple[int, int]]]:\n",
    "    acc = []    \n",
    "    intervals = [\n",
    "        sorted([\n",
    "            interval for sensor, beacon in pairs\n",
    "            if (interval := intersection(sensor, beacon, y))\n",
    "        ])\n",
    "        for y in range(a, b + 1)\n",
    "    ]\n",
    "    \n",
    "    def reducer(acc, value):\n",
    "        if not acc:\n",
    "            return [value]\n",
    "        if acc[-1][1] >= value[0] - 1:\n",
    "            return acc[:-1] + [(min(acc[-1][0], value[0]), max(acc[-1][1], value[1]))]\n",
    "        else:\n",
    "            return acc + [value]\n",
    "    \n",
    "    return [functools.reduce(reducer, row, []) for row in intervals]"
   ]
  },
  {
   "cell_type": "code",
   "execution_count": null,
   "id": "297b68c6",
   "metadata": {},
   "outputs": [],
   "source": [
    "def part_1(s: str, y: int) -> int:\n",
    "    acc = []\n",
    "    pairs = parse(s)\n",
    "    intervals, *_ = intersections(parse(s), y, y)\n",
    "    assert not _\n",
    "\n",
    "    beacons = set(\n",
    "        beacon.x for _, beacon in pairs\n",
    "        if beacon.y == y and any(a <= beacon.x <= b for a, b in intervals)\n",
    "    )\n",
    "\n",
    "    return sum(b - a + 1 for a, b in intervals) - len(beacons)"
   ]
  },
  {
   "cell_type": "code",
   "execution_count": null,
   "id": "94e36152",
   "metadata": {},
   "outputs": [
    {
     "data": {
      "text/plain": [
       "26"
      ]
     },
     "execution_count": null,
     "metadata": {},
     "output_type": "execute_result"
    }
   ],
   "source": [
    "part_1(_example, y=10)"
   ]
  },
  {
   "cell_type": "code",
   "execution_count": null,
   "id": "4f33f16a",
   "metadata": {},
   "outputs": [
    {
     "data": {
      "text/plain": [
       "4717631"
      ]
     },
     "execution_count": null,
     "metadata": {},
     "output_type": "execute_result"
    }
   ],
   "source": [
    "part_1(_test, y=2000000)"
   ]
  },
  {
   "cell_type": "markdown",
   "id": "19264da0",
   "metadata": {},
   "source": [
    "## Part 2"
   ]
  },
  {
   "cell_type": "code",
   "execution_count": null,
   "id": "55895f6a",
   "metadata": {},
   "outputs": [],
   "source": [
    "import asyncio\n",
    "import concurrent.futures\n",
    "\n",
    "\n",
    "async def part_2(s: str, min_value: int, max_value: int, num_workers: int) -> int:\n",
    "    loop = asyncio.get_running_loop()\n",
    "    batch_size = (max_value - min_value) // num_workers\n",
    "    pairs = parse(s)\n",
    "    with concurrent.futures.ProcessPoolExecutor() as pool:\n",
    "        chunks = await asyncio.gather(*[\n",
    "            loop.run_in_executor(\n",
    "                pool,\n",
    "                intersections,\n",
    "                pairs,\n",
    "                min_value+i*batch_size,\n",
    "                min(min_value+(i+1)*batch_size - 1, max_value))\n",
    "            for i in range(num_workers)\n",
    "        ])\n",
    "    intervals = sum(chunks, [])\n",
    "    beacon_positions = [\n",
    "        ((a[1] + b[0]) // 2, i)\n",
    "        for i, (a, b) in [\n",
    "            (i, interval)\n",
    "            for i, interval in enumerate(intervals)\n",
    "            if len(interval) == 2\n",
    "        ]\n",
    "    ]\n",
    "    x, y = beacon_positions[0]\n",
    "    return x * 4_000_000 + y "
   ]
  },
  {
   "cell_type": "code",
   "execution_count": null,
   "id": "1cc33f1b",
   "metadata": {},
   "outputs": [
    {
     "data": {
      "text/plain": [
       "56000011"
      ]
     },
     "execution_count": null,
     "metadata": {},
     "output_type": "execute_result"
    }
   ],
   "source": [
    "await part_2(_example, 0, 20, num_workers=1)"
   ]
  },
  {
   "cell_type": "code",
   "execution_count": null,
   "id": "0854cf37",
   "metadata": {},
   "outputs": [
    {
     "data": {
      "text/plain": [
       "13197439355220"
      ]
     },
     "execution_count": null,
     "metadata": {},
     "output_type": "execute_result"
    }
   ],
   "source": [
    "await part_2(_test, 0, 4_000_000, num_workers=16)"
   ]
  }
 ],
 "metadata": {
  "kernelspec": {
   "display_name": "Python 3 (ipykernel)",
   "language": "python",
   "name": "python3"
  }
 },
 "nbformat": 4,
 "nbformat_minor": 5
}
