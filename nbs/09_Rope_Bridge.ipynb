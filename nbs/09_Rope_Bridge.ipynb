{
 "cells": [
  {
   "cell_type": "markdown",
   "id": "9e6090b4",
   "metadata": {},
   "source": [
    "# Day 9: Rope Bridge"
   ]
  },
  {
   "cell_type": "code",
   "execution_count": null,
   "id": "e2ab8632",
   "metadata": {},
   "outputs": [],
   "source": [
    "from aoc_2023 import core\n",
    "\n",
    "\n",
    "_example = \"\"\"R 4\n",
    "U 4\n",
    "L 3\n",
    "D 1\n",
    "R 4\n",
    "D 1\n",
    "L 5\n",
    "R 2\"\"\"\n",
    "_test = core.read_input(\"../data/day_9.txt\")"
   ]
  },
  {
   "cell_type": "code",
   "execution_count": null,
   "id": "8a44a905",
   "metadata": {},
   "outputs": [],
   "source": [
    "import math\n",
    "\n",
    "from dataclasses import dataclass, replace\n",
    "\n",
    "\n",
    "@dataclass(frozen=False)\n",
    "class Position:\n",
    "    x: int\n",
    "    y: int\n",
    "\n",
    "\n",
    "def move(pos: Position, direction: str) -> Position:\n",
    "    match(direction):\n",
    "        case \"U\":\n",
    "            pos = replace(pos, y=pos.y+1)\n",
    "        case \"D\":\n",
    "            pos = replace(pos, y=pos.y-1)\n",
    "        case \"R\":\n",
    "            pos = replace(pos, x=pos.x+1)\n",
    "        case \"L\":\n",
    "            pos = replace(pos, x=pos.x-1)\n",
    "        case _:\n",
    "            raise ValueError(f\"Don't know what to do with {command}. Expexted: [R|L|D|U] value\")\n",
    "    \n",
    "    return pos\n",
    "\n",
    "\n",
    "def update_prev(curr: Position, prev: Position) -> Position:\n",
    "    dx = curr.x - prev.x\n",
    "    dy = curr.y - prev.y\n",
    "    \n",
    "    if (abs(dx) <= 1) and (abs(dy) <= 1):\n",
    "        return prev\n",
    "    return Position(\n",
    "        x=prev.x + (-1 if dx < 0.0 else 1) * math.ceil(abs(dx / 2.0)),\n",
    "        y=prev.y + (-1 if dy < 0.0 else 1) * math.ceil(abs(dy / 2.0))\n",
    "    )"
   ]
  },
  {
   "cell_type": "code",
   "execution_count": null,
   "id": "31d51ba7",
   "metadata": {},
   "outputs": [],
   "source": [
    "def execute_commands(state: list[Position], s: str) -> list[Position]:\n",
    "    res = [state[-1]]  # tail\n",
    "    for command in s.split(\"\\n\"):\n",
    "        direction, value_str = tuple(command.split(\" \"))\n",
    "        value = int(value_str)\n",
    "        for i in range(value):\n",
    "            new_state = [move(state[0], direction)]  # head\n",
    "            for prev in state[1:]:\n",
    "                new_state += [update_prev(new_state[-1], prev)]\n",
    "            state = new_state\n",
    "            res += [state[-1]]  # tail\n",
    "    return res\n",
    "\n",
    "\n",
    "def unique(positions: list[Position]):\n",
    "    return set((p.x, p.y) for p in positions)"
   ]
  },
  {
   "cell_type": "markdown",
   "id": "1d9c5d65",
   "metadata": {},
   "source": [
    "## Part 1"
   ]
  },
  {
   "cell_type": "code",
   "execution_count": null,
   "id": "ee6ce2b9",
   "metadata": {},
   "outputs": [],
   "source": [
    "def part_1(s: str) -> int:\n",
    "    return len(unique(execute_commands([Position(x=0, y=0) for _ in range(2)], s)))"
   ]
  },
  {
   "cell_type": "code",
   "execution_count": null,
   "id": "f3f70f28",
   "metadata": {},
   "outputs": [
    {
     "data": {
      "text/plain": [
       "13"
      ]
     },
     "execution_count": null,
     "metadata": {},
     "output_type": "execute_result"
    }
   ],
   "source": [
    "part_1(_example)"
   ]
  },
  {
   "cell_type": "code",
   "execution_count": null,
   "id": "f23853bd",
   "metadata": {},
   "outputs": [
    {
     "data": {
      "text/plain": [
       "6332"
      ]
     },
     "execution_count": null,
     "metadata": {},
     "output_type": "execute_result"
    }
   ],
   "source": [
    "part_1(_test)"
   ]
  },
  {
   "cell_type": "markdown",
   "id": "c1521756",
   "metadata": {},
   "source": [
    "## Part 2"
   ]
  },
  {
   "cell_type": "code",
   "execution_count": null,
   "id": "415f2ca4",
   "metadata": {},
   "outputs": [],
   "source": [
    "def part_2(s: str) -> int:\n",
    "    return len(unique(execute_commands([Position(x=0, y=0) for _ in range(10)], s)))"
   ]
  },
  {
   "cell_type": "code",
   "execution_count": null,
   "id": "e2569c60",
   "metadata": {},
   "outputs": [
    {
     "data": {
      "text/plain": [
       "1"
      ]
     },
     "execution_count": null,
     "metadata": {},
     "output_type": "execute_result"
    }
   ],
   "source": [
    "part_2(_example)"
   ]
  },
  {
   "cell_type": "code",
   "execution_count": null,
   "id": "882c6c9e",
   "metadata": {},
   "outputs": [
    {
     "data": {
      "text/plain": [
       "2511"
      ]
     },
     "execution_count": null,
     "metadata": {},
     "output_type": "execute_result"
    }
   ],
   "source": [
    "part_2(_test)"
   ]
  }
 ],
 "metadata": {
  "kernelspec": {
   "display_name": "Python 3 (ipykernel)",
   "language": "python",
   "name": "python3"
  }
 },
 "nbformat": 4,
 "nbformat_minor": 5
}
