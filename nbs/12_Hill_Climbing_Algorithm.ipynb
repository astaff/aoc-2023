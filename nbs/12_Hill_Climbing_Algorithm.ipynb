{
 "cells": [
  {
   "cell_type": "markdown",
   "id": "8232c60f",
   "metadata": {},
   "source": [
    "# Day 12: Hill Climbing Algorithm"
   ]
  },
  {
   "cell_type": "markdown",
   "id": "5ce9c3eb",
   "metadata": {},
   "source": [
    "## Part 1"
   ]
  },
  {
   "cell_type": "code",
   "execution_count": null,
   "id": "15891c15",
   "metadata": {},
   "outputs": [],
   "source": [
    "from aoc_2023 import core\n",
    "\n",
    "\n",
    "_example = \"\"\"Sabqponm\n",
    "abcryxxl\n",
    "accszExk\n",
    "acctuvwj\n",
    "abdefghi\"\"\"\n",
    "_test = core.read_input(\"../data/day_12.txt\")\n",
    "\n",
    "\n",
    "Position = tuple[int, int]"
   ]
  },
  {
   "cell_type": "code",
   "execution_count": null,
   "id": "3bdaa72a",
   "metadata": {},
   "outputs": [],
   "source": [
    "import string\n",
    "\n",
    "\n",
    "def parse(s: str) -> tuple[int, int, list[list[int]]]:\n",
    "    heights = {\n",
    "        letter: i\n",
    "        for i, letter in enumerate(string.ascii_lowercase)\n",
    "    }\n",
    "\n",
    "    start: tuple[int, int] | None = None\n",
    "    finish: tuple[int, int] | None = None\n",
    "    \n",
    "    lines = s.split(\"\\n\")\n",
    "    topo_map: list[list[int | None]] = [\n",
    "        [None for _ in range(len(line))]\n",
    "        for line in lines\n",
    "    ]\n",
    "\n",
    "    for i, line in enumerate(lines):\n",
    "        for j, char in enumerate(line):\n",
    "            if char == \"S\":\n",
    "                start = (i, j)\n",
    "                topo_map[i][j] = heights[\"a\"]\n",
    "            elif char == \"E\":\n",
    "                finish = (i, j)\n",
    "                topo_map[i][j] = heights[\"z\"]\n",
    "            else:\n",
    "                topo_map[i][j] = heights[char]\n",
    "\n",
    "    return start, finish, topo_map                "
   ]
  },
  {
   "cell_type": "code",
   "execution_count": null,
   "id": "dfb69f3c",
   "metadata": {},
   "outputs": [],
   "source": [
    "def dijkstra(graph: dict[Position, set[Position]], a: Position, b: list[Position]) -> int:\n",
    "    dist = {v: 0 if v == a else None for v in graph}\n",
    "    prev = {v: None for v in graph}\n",
    "\n",
    "    unvisited = set(graph)\n",
    "    \n",
    "    while unvisited:\n",
    "        candidates = [\n",
    "            (dist[v], v)\n",
    "            for v in unvisited\n",
    "            if dist[v] is not None\n",
    "        ]\n",
    "        if not candidates:\n",
    "            break\n",
    "        _, current = min(candidates)\n",
    "        unvisited.remove(current)\n",
    "\n",
    "        for neighbor in graph[current]:\n",
    "            if neighbor in unvisited:\n",
    "                alt = dist[current] + 1\n",
    "                if dist[neighbor] is None or alt < dist[neighbor]:\n",
    "                    dist[neighbor] = alt\n",
    "                    prev[neighbor] = current\n",
    "\n",
    "    return min(dist[v] for v in b if dist[v] is not None)"
   ]
  },
  {
   "cell_type": "code",
   "execution_count": null,
   "id": "d76a8fcf",
   "metadata": {},
   "outputs": [],
   "source": [
    "def to_graph(topo_map: list[list[int]]) -> dict[Position, set[Position]]:\n",
    "    m = len(topo_map)\n",
    "    n = len(topo_map[0])\n",
    "    \n",
    "    graph = {(i, j): set() for i in range(m) for j in range(n)}\n",
    "    \n",
    "    for i, row in enumerate(topo_map):\n",
    "        for j, height in enumerate(row):\n",
    "            # Reverse direction in the graph to transform the problem\n",
    "            # from having multiple starts (Part 2) to having multiple finishes\n",
    "            if i > 0 and (topo_map[i - 1][j] <= height + 1):\n",
    "                graph[(i - 1, j)].add((i, j))\n",
    "            if i < m - 1 and (topo_map[i + 1][j] <= height + 1):\n",
    "                graph[(i + 1, j)].add((i, j))\n",
    "            if j > 0 and (topo_map[i][j - 1] <= height + 1):\n",
    "                graph[(i, j - 1)].add((i, j))\n",
    "            if j < n - 1 and (topo_map[i][j + 1] <= height + 1):\n",
    "                graph[(i, j + 1)].add((i , j))\n",
    "                \n",
    "    return graph"
   ]
  },
  {
   "cell_type": "code",
   "execution_count": null,
   "id": "29992392",
   "metadata": {},
   "outputs": [],
   "source": [
    "def part_1(s: str) -> int:\n",
    "    start, finish, topo_map = parse(s)\n",
    "    graph = to_graph(topo_map)\n",
    "    \n",
    "    # We are reversing the direction of the graph, so\n",
    "    # our starts and finish need to be swapped.\n",
    "    return dijkstra(graph, finish, [start])"
   ]
  },
  {
   "cell_type": "code",
   "execution_count": null,
   "id": "fd4c4ea3",
   "metadata": {},
   "outputs": [
    {
     "data": {
      "text/plain": [
       "31"
      ]
     },
     "execution_count": null,
     "metadata": {},
     "output_type": "execute_result"
    }
   ],
   "source": [
    "part_1(_example)"
   ]
  },
  {
   "cell_type": "code",
   "execution_count": null,
   "id": "849c57df",
   "metadata": {},
   "outputs": [
    {
     "data": {
      "text/plain": [
       "449"
      ]
     },
     "execution_count": null,
     "metadata": {},
     "output_type": "execute_result"
    }
   ],
   "source": [
    "part_1(_test)"
   ]
  },
  {
   "cell_type": "markdown",
   "id": "b91dd71e",
   "metadata": {},
   "source": [
    "## Part 2"
   ]
  },
  {
   "cell_type": "code",
   "execution_count": null,
   "id": "b1957f41",
   "metadata": {},
   "outputs": [],
   "source": [
    "def part_2(s: str) -> int:\n",
    "    start, finish, topo_map = parse(s)\n",
    "    graph = to_graph(topo_map)\n",
    "    candidates = [(i, j) for i in range(len(topo_map)) for j in range(len(topo_map[i])) if topo_map[i][j] == 0]\n",
    "\n",
    "    # Because we are reversing the direction of the graph\n",
    "    # we can treat our candidates as multiple finishes instead of starts\n",
    "    # and calculate the distance in a single run of Dijkstra.\n",
    "    return dijkstra(graph, finish, candidates)"
   ]
  },
  {
   "cell_type": "code",
   "execution_count": null,
   "id": "729f89c4",
   "metadata": {},
   "outputs": [
    {
     "data": {
      "text/plain": [
       "29"
      ]
     },
     "execution_count": null,
     "metadata": {},
     "output_type": "execute_result"
    }
   ],
   "source": [
    "part_2(_example)"
   ]
  },
  {
   "cell_type": "code",
   "execution_count": null,
   "id": "7c0b8330",
   "metadata": {},
   "outputs": [
    {
     "data": {
      "text/plain": [
       "443"
      ]
     },
     "execution_count": null,
     "metadata": {},
     "output_type": "execute_result"
    }
   ],
   "source": [
    "part_2(_test)"
   ]
  }
 ],
 "metadata": {
  "kernelspec": {
   "display_name": "Python 3 (ipykernel)",
   "language": "python",
   "name": "python3"
  }
 },
 "nbformat": 4,
 "nbformat_minor": 5
}
