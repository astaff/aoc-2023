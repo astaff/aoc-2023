{
 "cells": [
  {
   "cell_type": "markdown",
   "id": "362e1097",
   "metadata": {},
   "source": [
    "# Day 4: Camp Cleanup"
   ]
  },
  {
   "cell_type": "markdown",
   "id": "07eb4afe",
   "metadata": {},
   "source": [
    "## Part 1"
   ]
  },
  {
   "cell_type": "code",
   "execution_count": null,
   "id": "c34327b2",
   "metadata": {},
   "outputs": [],
   "source": [
    "from aoc_2023 import core\n",
    "\n",
    "\n",
    "_example = \"\"\"2-4,6-8\n",
    "2-3,4-5\n",
    "5-7,7-9\n",
    "2-8,3-7\n",
    "6-6,4-6\n",
    "2-6,4-8\"\"\"\n",
    "_test = core.read_input(\"../data/day_4.txt\")"
   ]
  },
  {
   "cell_type": "code",
   "execution_count": null,
   "id": "362e31c3",
   "metadata": {},
   "outputs": [],
   "source": [
    "from dataclasses import dataclass\n",
    "\n",
    "\n",
    "@dataclass(frozen=True)\n",
    "class Interval:\n",
    "    a: int\n",
    "    b: int\n",
    "        \n",
    "\n",
    "def interval(s: str) -> Interval:\n",
    "    return Interval(*[int(n) for n in s.split(\"-\")])\n",
    "\n",
    "\n",
    "def pairs(s: str) -> tuple[str, str]:\n",
    "    return tuple(pair for pair in s.split(\",\"))\n",
    "\n",
    "\n",
    "def intervals(s: str) -> list[tuple[Interval, Interval]]:\n",
    "    return [\n",
    "        tuple(interval(pair) for pair in pairs(line))\n",
    "        for line in s.split(\"\\n\")\n",
    "    ]\n",
    "\n",
    "\n",
    "def contains(left: Interval, right: Interval) -> bool:\n",
    "    return (\n",
    "        ((left.a <= right.a <= left.b) and (left.a <= right.b <= left.b)) or\n",
    "        ((right.a <= left.a <= right.b) and (right.a <= left.b <= right.b))\n",
    "    )\n",
    "\n",
    "\n",
    "def part_1(s: str) -> int:\n",
    "    return sum(int(contains(left, right)) for left, right in intervals(s))    "
   ]
  },
  {
   "cell_type": "code",
   "execution_count": null,
   "id": "b59a76d2",
   "metadata": {},
   "outputs": [
    {
     "data": {
      "text/plain": [
       "2"
      ]
     },
     "execution_count": null,
     "metadata": {},
     "output_type": "execute_result"
    }
   ],
   "source": [
    "part_1(_example)"
   ]
  },
  {
   "cell_type": "code",
   "execution_count": null,
   "id": "989d4899",
   "metadata": {},
   "outputs": [
    {
     "data": {
      "text/plain": [
       "534"
      ]
     },
     "execution_count": null,
     "metadata": {},
     "output_type": "execute_result"
    }
   ],
   "source": [
    "part_1(_test)"
   ]
  },
  {
   "cell_type": "markdown",
   "id": "de010b98",
   "metadata": {},
   "source": [
    "## Part 2"
   ]
  },
  {
   "cell_type": "code",
   "execution_count": null,
   "id": "d9013d8d",
   "metadata": {},
   "outputs": [],
   "source": [
    "def overlaps(left: Interval, right: Interval) -> bool:\n",
    "    return (\n",
    "        ((left.a <= right.a <= left.b) or (left.a <= right.b <= left.b)) or\n",
    "        ((right.a <= left.a <= right.b) or (right.a <= left.b <= right.b))\n",
    "    )"
   ]
  },
  {
   "cell_type": "code",
   "execution_count": null,
   "id": "b69493e0",
   "metadata": {},
   "outputs": [],
   "source": [
    "def part_2(s: str) -> int:\n",
    "    return sum(int(overlaps(left, right)) for left, right in intervals(s))"
   ]
  },
  {
   "cell_type": "code",
   "execution_count": null,
   "id": "51190da9",
   "metadata": {},
   "outputs": [
    {
     "data": {
      "text/plain": [
       "4"
      ]
     },
     "execution_count": null,
     "metadata": {},
     "output_type": "execute_result"
    }
   ],
   "source": [
    "part_2(_example)"
   ]
  },
  {
   "cell_type": "code",
   "execution_count": null,
   "id": "301041af",
   "metadata": {},
   "outputs": [
    {
     "data": {
      "text/plain": [
       "841"
      ]
     },
     "execution_count": null,
     "metadata": {},
     "output_type": "execute_result"
    }
   ],
   "source": [
    "part_2(_test)"
   ]
  }
 ],
 "metadata": {
  "kernelspec": {
   "display_name": "Python 3 (ipykernel)",
   "language": "python",
   "name": "python3"
  }
 },
 "nbformat": 4,
 "nbformat_minor": 5
}
