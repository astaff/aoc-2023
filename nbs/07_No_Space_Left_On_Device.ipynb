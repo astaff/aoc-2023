{
 "cells": [
  {
   "cell_type": "markdown",
   "id": "86a65537",
   "metadata": {},
   "source": [
    "# Day 7: No Space Left On Device"
   ]
  },
  {
   "cell_type": "markdown",
   "id": "f1352f9b",
   "metadata": {},
   "source": [
    "## Part 1"
   ]
  },
  {
   "cell_type": "code",
   "execution_count": null,
   "id": "539a210a",
   "metadata": {},
   "outputs": [],
   "source": [
    "from aoc_2023 import core\n",
    "\n",
    "\n",
    "_example = \"\"\"$ cd /\n",
    "$ ls\n",
    "dir a\n",
    "14848514 b.txt\n",
    "8504156 c.dat\n",
    "dir d\n",
    "$ cd a\n",
    "$ ls\n",
    "dir e\n",
    "29116 f\n",
    "2557 g\n",
    "62596 h.lst\n",
    "$ cd e\n",
    "$ ls\n",
    "584 i\n",
    "$ cd ..\n",
    "$ cd ..\n",
    "$ cd d\n",
    "$ ls\n",
    "4060174 j\n",
    "8033020 d.log\n",
    "5626152 d.ext\n",
    "7214296 k\"\"\"\n",
    "_test = core.read_input(\"../data/day_7.txt\")"
   ]
  },
  {
   "cell_type": "code",
   "execution_count": null,
   "id": "8baa7bd6",
   "metadata": {},
   "outputs": [],
   "source": [
    "from typing import Optional\n",
    "from dataclasses import dataclass\n",
    "\n",
    "\n",
    "@dataclass(frozen=True)\n",
    "class Node:\n",
    "    parent: Optional['Node']\n",
    "    name: str\n",
    "    size: int\n",
    "    children: dict[str, 'Node']"
   ]
  },
  {
   "cell_type": "code",
   "execution_count": null,
   "id": "bb7fb848",
   "metadata": {},
   "outputs": [],
   "source": [
    "def update_tree(root: Node, current: Node, line: str) -> Node:\n",
    "    if line.startswith(\"$ ls\"):\n",
    "        return current\n",
    "    elif line.startswith(\"$ cd\"):\n",
    "        arg = line[5:]\n",
    "        if arg == \"/\":\n",
    "            return root\n",
    "        elif arg == \"..\":\n",
    "            return current.parent\n",
    "        else:\n",
    "            child = current.children.get(\n",
    "                arg,\n",
    "                Node(\n",
    "                    parent=current,\n",
    "                    name=arg,\n",
    "                    size=0,\n",
    "                    children=dict()\n",
    "                ))\n",
    "            current.children[arg] = child\n",
    "            return child\n",
    "    else:\n",
    "        info, name = line.split(\" \")\n",
    "        if not name in current.children:\n",
    "            current.children[name] = Node(\n",
    "                parent=current,\n",
    "                name=name,\n",
    "                size=0 if info == \"dir\" else int(info),\n",
    "                children=dict())\n",
    "        return current\n",
    "                                             \n",
    "\n",
    "def dfs(node: Node) -> list[Node]:\n",
    "    return [node] + sum([dfs(child) for child in node.children.values()], [])\n",
    "    \n",
    "    \n",
    "def subtree_size(node: Node) -> int:\n",
    "    return sum(node.size for node in dfs(node))\n",
    "\n",
    "\n",
    "def build_tree(s: str) -> Node:\n",
    "    current = root = Node(\n",
    "        parent=None,\n",
    "        name=\"/\",\n",
    "        size=0,\n",
    "        children=dict())\n",
    "    lines = [line for line in s.split(\"\\n\") if line]\n",
    "    for line in lines:\n",
    "        current = update_tree(root, current, line)\n",
    "    return root"
   ]
  },
  {
   "cell_type": "code",
   "execution_count": null,
   "id": "35567e89",
   "metadata": {},
   "outputs": [],
   "source": [
    "def part_1(s: str) -> int:\n",
    "    root = build_tree(s)\n",
    "    return sum(\n",
    "        _size for node in dfs(root) \n",
    "        if (node.children) and ((_size := subtree_size(node)) <= 100000)\n",
    "    )"
   ]
  },
  {
   "cell_type": "code",
   "execution_count": null,
   "id": "1e281339",
   "metadata": {},
   "outputs": [
    {
     "data": {
      "text/plain": [
       "95437"
      ]
     },
     "execution_count": null,
     "metadata": {},
     "output_type": "execute_result"
    }
   ],
   "source": [
    "part_1(_example)"
   ]
  },
  {
   "cell_type": "code",
   "execution_count": null,
   "id": "ed21065b",
   "metadata": {},
   "outputs": [
    {
     "data": {
      "text/plain": [
       "1444896"
      ]
     },
     "execution_count": null,
     "metadata": {},
     "output_type": "execute_result"
    }
   ],
   "source": [
    "part_1(_test)"
   ]
  },
  {
   "cell_type": "markdown",
   "id": "78de17a3",
   "metadata": {},
   "source": [
    "## Part 2"
   ]
  },
  {
   "cell_type": "code",
   "execution_count": null,
   "id": "c4862570",
   "metadata": {},
   "outputs": [],
   "source": [
    "def part_2(s: str) -> int:\n",
    "    root = build_tree(s)\n",
    "    disk_size = 70000000\n",
    "    space_required = 30000000\n",
    "    min_size = space_required - (disk_size - subtree_size(root))\n",
    "    \n",
    "    return sorted([\n",
    "        _size for node in dfs(root)\n",
    "        if node.children and ((_size := subtree_size(node)) >= min_size)])[0]"
   ]
  },
  {
   "cell_type": "code",
   "execution_count": null,
   "id": "0d4420dd",
   "metadata": {},
   "outputs": [
    {
     "data": {
      "text/plain": [
       "24933642"
      ]
     },
     "execution_count": null,
     "metadata": {},
     "output_type": "execute_result"
    }
   ],
   "source": [
    "part_2(_example)"
   ]
  },
  {
   "cell_type": "code",
   "execution_count": null,
   "id": "6313e377",
   "metadata": {},
   "outputs": [
    {
     "data": {
      "text/plain": [
       "404395"
      ]
     },
     "execution_count": null,
     "metadata": {},
     "output_type": "execute_result"
    }
   ],
   "source": [
    "part_2(_test)"
   ]
  }
 ],
 "metadata": {
  "kernelspec": {
   "display_name": "Python 3 (ipykernel)",
   "language": "python",
   "name": "python3"
  }
 },
 "nbformat": 4,
 "nbformat_minor": 5
}
