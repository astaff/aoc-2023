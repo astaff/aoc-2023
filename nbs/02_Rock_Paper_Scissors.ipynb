{
 "cells": [
  {
   "cell_type": "markdown",
   "id": "c6d6487b",
   "metadata": {},
   "source": [
    "# Day 2: Rock Paper Scissors"
   ]
  },
  {
   "cell_type": "markdown",
   "id": "61ca10e7",
   "metadata": {},
   "source": [
    "## Part 1"
   ]
  },
  {
   "cell_type": "code",
   "execution_count": null,
   "id": "1cd82c25",
   "metadata": {},
   "outputs": [],
   "source": [
    "def to_item(x: str) -> str:\n",
    "    if x in (\"A\", \"X\"):\n",
    "        return \"rock\"\n",
    "    if x in (\"B\", \"Y\"):\n",
    "        return \"paper\"\n",
    "    if x in (\"C\", \"Z\"):\n",
    "        return \"scissors\"\n",
    "    if x in (\"rock\", \"paper\", \"scissors\"):\n",
    "        return x\n",
    "    raise ValueError(f\"Unsupported value: {x}\")"
   ]
  },
  {
   "cell_type": "code",
   "execution_count": null,
   "id": "56e89c13",
   "metadata": {},
   "outputs": [],
   "source": [
    "def score(first: str, second: str) -> int:\n",
    "    first = to_item(first)\n",
    "    second = to_item(second)\n",
    "\n",
    "    base = {\"rock\": 1, \"paper\": 2, \"scissors\": 3}\n",
    "\n",
    "    if (first == second):\n",
    "        return base[second] + 3\n",
    "    elif (\n",
    "        (first == 'rock' and second == 'scissors') or\n",
    "        (first == 'paper' and second == 'rock') or\n",
    "        (first == 'scissors' and second == 'paper')\n",
    "    ):\n",
    "        return base[second]\n",
    "    else:\n",
    "        return base[second] + 6"
   ]
  },
  {
   "cell_type": "code",
   "execution_count": null,
   "id": "e804c710",
   "metadata": {},
   "outputs": [],
   "source": [
    "def part_1(s: str) -> int:\n",
    "    return sum(score(*line.split()) for line in s.split(\"\\n\") if line)"
   ]
  },
  {
   "cell_type": "code",
   "execution_count": null,
   "id": "07dcf873",
   "metadata": {},
   "outputs": [],
   "source": [
    "from aoc_2023 import core\n",
    "\n",
    "\n",
    "_example = \"\"\"A Y\n",
    "B X\n",
    "C Z\"\"\"\n",
    "_test = core.read_input(\"../data/day_2.txt\")"
   ]
  },
  {
   "cell_type": "code",
   "execution_count": null,
   "id": "dd7339e0",
   "metadata": {},
   "outputs": [
    {
     "data": {
      "text/plain": [
       "15"
      ]
     },
     "execution_count": null,
     "metadata": {},
     "output_type": "execute_result"
    }
   ],
   "source": [
    "part_1(_example)"
   ]
  },
  {
   "cell_type": "code",
   "execution_count": null,
   "id": "9f4cad40",
   "metadata": {},
   "outputs": [
    {
     "data": {
      "text/plain": [
       "13682"
      ]
     },
     "execution_count": null,
     "metadata": {},
     "output_type": "execute_result"
    }
   ],
   "source": [
    "part_1(_test)"
   ]
  },
  {
   "cell_type": "markdown",
   "id": "f92753d6",
   "metadata": {},
   "source": [
    "## Part 2"
   ]
  },
  {
   "cell_type": "code",
   "execution_count": null,
   "id": "5c4cd725",
   "metadata": {},
   "outputs": [],
   "source": [
    "def to_result(x: str) -> str:\n",
    "    if x == \"X\":\n",
    "        return \"lose\"\n",
    "    if x == \"Y\":\n",
    "        return \"draw\"\n",
    "    if x == \"Z\":\n",
    "        return \"win\"\n",
    "    raise ValueError(f\"Unsupported value: {x}\")"
   ]
  },
  {
   "cell_type": "code",
   "execution_count": null,
   "id": "a5142566",
   "metadata": {},
   "outputs": [],
   "source": [
    "def calculate_second(first: str, result: str) -> str:\n",
    "    first = to_item(first)\n",
    "    result = to_result(result)\n",
    "    if result == \"lose\":\n",
    "        if first == \"rock\":\n",
    "            return \"scissors\"\n",
    "        if first == \"paper\":\n",
    "            return \"rock\"\n",
    "        if first == \"scissors\":\n",
    "            return \"paper\"\n",
    "    elif result == \"win\":\n",
    "        if first == \"scissors\":\n",
    "            return \"rock\"\n",
    "        if first == \"rock\":\n",
    "            return \"paper\"\n",
    "        if first == \"paper\":\n",
    "            return \"scissors\"\n",
    "    elif result == \"draw\":\n",
    "        return first"
   ]
  },
  {
   "cell_type": "code",
   "execution_count": null,
   "id": "17f242dd",
   "metadata": {},
   "outputs": [],
   "source": [
    "def part_2(s: str) -> int:\n",
    "    res = 0\n",
    "    for line in s.split(\"\\n\"):\n",
    "        if not line:\n",
    "            continue\n",
    "        first, result = line.split(\" \")\n",
    "        second = calculate_second(first, result)\n",
    "        res += score(first, second)\n",
    "    return res"
   ]
  },
  {
   "cell_type": "code",
   "execution_count": null,
   "id": "ef8843d8",
   "metadata": {},
   "outputs": [
    {
     "data": {
      "text/plain": [
       "12"
      ]
     },
     "execution_count": null,
     "metadata": {},
     "output_type": "execute_result"
    }
   ],
   "source": [
    "part_2(_example)"
   ]
  },
  {
   "cell_type": "code",
   "execution_count": null,
   "id": "a6749b65",
   "metadata": {},
   "outputs": [
    {
     "data": {
      "text/plain": [
       "12881"
      ]
     },
     "execution_count": null,
     "metadata": {},
     "output_type": "execute_result"
    }
   ],
   "source": [
    "part_2(_test)"
   ]
  }
 ],
 "metadata": {
  "kernelspec": {
   "display_name": "Python 3 (ipykernel)",
   "language": "python",
   "name": "python3"
  }
 },
 "nbformat": 4,
 "nbformat_minor": 5
}
