{
 "cells": [
  {
   "cell_type": "markdown",
   "id": "ac6ffd80",
   "metadata": {},
   "source": [
    "#  Day 3: Rucksack Reorganization"
   ]
  },
  {
   "cell_type": "markdown",
   "id": "fb22f45d",
   "metadata": {},
   "source": [
    "## Part 1"
   ]
  },
  {
   "cell_type": "code",
   "execution_count": null,
   "id": "4b080894",
   "metadata": {},
   "outputs": [],
   "source": [
    "import string\n",
    "from functools import reduce\n",
    "\n",
    "\n",
    "def common_item(items: list[str]) -> str:\n",
    "    def reducer(acc, x):\n",
    "        return acc.intersection(set(x))\n",
    "    first, *rest = items\n",
    "    return reduce(reducer, rest, set(first)).pop()\n",
    "\n",
    "\n",
    "priority = {\n",
    "    letter: priority\n",
    "    for letter, priority\n",
    "    in zip(string.ascii_letters, range(1, 53))\n",
    "}"
   ]
  },
  {
   "cell_type": "code",
   "execution_count": null,
   "id": "b46b390f",
   "metadata": {},
   "outputs": [],
   "source": [
    "def common_between_compartments(s: str) -> str:\n",
    "    half = len(s) // 2\n",
    "    first = s[:half]\n",
    "    second = s[half:]\n",
    "    return common_item([first, second])\n",
    "\n",
    "\n",
    "def part_1(s: str) -> int:\n",
    "    lines = s.split(\"\\n\")\n",
    "    return sum(\n",
    "        priority[common_between_compartments(line)]\n",
    "        for line in lines\n",
    "    )"
   ]
  },
  {
   "cell_type": "code",
   "execution_count": null,
   "id": "8f391881",
   "metadata": {},
   "outputs": [],
   "source": [
    "from aoc_2023 import core\n",
    "\n",
    "\n",
    "_example = \"\"\"vJrwpWtwJgWrhcsFMMfFFhFp\n",
    "jqHRNqRjqzjGDLGLrsFMfFZSrLrFZsSL\n",
    "PmmdzqPrVvPwwTWBwg\n",
    "wMqvLMZHhHMvwLHjbvcjnnSBnvTQFn\n",
    "ttgJtRGJQctTZtZT\n",
    "CrZsJsPPZsGzwwsLwLmpwMDw\"\"\"\n",
    "_test = core.read_input(\"../data/day_3.txt\")"
   ]
  },
  {
   "cell_type": "code",
   "execution_count": null,
   "id": "71ba6dde",
   "metadata": {},
   "outputs": [
    {
     "data": {
      "text/plain": [
       "157"
      ]
     },
     "execution_count": null,
     "metadata": {},
     "output_type": "execute_result"
    }
   ],
   "source": [
    "part_1(_example)"
   ]
  },
  {
   "cell_type": "code",
   "execution_count": null,
   "id": "7e0d7179",
   "metadata": {},
   "outputs": [
    {
     "data": {
      "text/plain": [
       "8243"
      ]
     },
     "execution_count": null,
     "metadata": {},
     "output_type": "execute_result"
    }
   ],
   "source": [
    "part_1(_test)"
   ]
  },
  {
   "cell_type": "markdown",
   "id": "53b65488",
   "metadata": {},
   "source": [
    "## Part 2"
   ]
  },
  {
   "cell_type": "code",
   "execution_count": null,
   "id": "3b4cc5fd",
   "metadata": {},
   "outputs": [],
   "source": [
    "def part_2(s: str) -> int:\n",
    "    # Chunk into intervals of 3\n",
    "    lines = s.split(\"\\n\")\n",
    "    args = [iter(lines)] * 3\n",
    "    return sum(\n",
    "        priority[common_item(group)]\n",
    "        for group in zip(*args)\n",
    "    )"
   ]
  },
  {
   "cell_type": "code",
   "execution_count": null,
   "id": "f9129c02",
   "metadata": {},
   "outputs": [
    {
     "data": {
      "text/plain": [
       "70"
      ]
     },
     "execution_count": null,
     "metadata": {},
     "output_type": "execute_result"
    }
   ],
   "source": [
    "part_2(_example)"
   ]
  },
  {
   "cell_type": "code",
   "execution_count": null,
   "id": "19266a47",
   "metadata": {},
   "outputs": [
    {
     "data": {
      "text/plain": [
       "2631"
      ]
     },
     "execution_count": null,
     "metadata": {},
     "output_type": "execute_result"
    }
   ],
   "source": [
    "part_2(_test)"
   ]
  }
 ],
 "metadata": {
  "kernelspec": {
   "display_name": "Python 3 (ipykernel)",
   "language": "python",
   "name": "python3"
  }
 },
 "nbformat": 4,
 "nbformat_minor": 5
}
