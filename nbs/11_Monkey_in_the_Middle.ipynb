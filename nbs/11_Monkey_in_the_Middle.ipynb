{
 "cells": [
  {
   "cell_type": "markdown",
   "id": "19daea1e",
   "metadata": {},
   "source": [
    "# Day 11: Monkey in the Middle"
   ]
  },
  {
   "cell_type": "markdown",
   "id": "e231fcfa",
   "metadata": {},
   "source": [
    "## Part 1"
   ]
  },
  {
   "cell_type": "code",
   "execution_count": null,
   "id": "9be78b19",
   "metadata": {},
   "outputs": [],
   "source": [
    "from aoc_2023 import core\n",
    "\n",
    "\n",
    "_example = \"\"\"Monkey 0:\n",
    "  Starting items: 79, 98\n",
    "  Operation: new = old * 19\n",
    "  Test: divisible by 23\n",
    "    If true: throw to monkey 2\n",
    "    If false: throw to monkey 3\n",
    "\n",
    "Monkey 1:\n",
    "  Starting items: 54, 65, 75, 74\n",
    "  Operation: new = old + 6\n",
    "  Test: divisible by 19\n",
    "    If true: throw to monkey 2\n",
    "    If false: throw to monkey 0\n",
    "\n",
    "Monkey 2:\n",
    "  Starting items: 79, 60, 97\n",
    "  Operation: new = old * old\n",
    "  Test: divisible by 13\n",
    "    If true: throw to monkey 1\n",
    "    If false: throw to monkey 3\n",
    "\n",
    "Monkey 3:\n",
    "  Starting items: 74\n",
    "  Operation: new = old + 3\n",
    "  Test: divisible by 17\n",
    "    If true: throw to monkey 0\n",
    "    If false: throw to monkey 1\"\"\"\n",
    "_test = core.read_input(\"../data/day_11.txt\")"
   ]
  },
  {
   "cell_type": "code",
   "execution_count": null,
   "id": "3f21f0ac",
   "metadata": {},
   "outputs": [],
   "source": [
    "from dataclasses import dataclass\n",
    "from typing import Callable\n",
    "\n",
    "\n",
    "@dataclass(frozen=True)\n",
    "class Monkey:\n",
    "    index: int\n",
    "    items: list[str]\n",
    "    operation: Callable[int, ...]\n",
    "    divisible_by: int\n",
    "    on_true: int\n",
    "    on_false: int"
   ]
  },
  {
   "cell_type": "code",
   "execution_count": null,
   "id": "84ee13b7",
   "metadata": {},
   "outputs": [],
   "source": [
    "import math\n",
    "\n",
    "\n",
    "def parse_monkey(s: str) -> Monkey:\n",
    "    lines = s.split(\"\\n\")\n",
    "    index = int(lines[0].strip()[len(\"Monkey\"):-1])\n",
    "    items = [int(item) for item in lines[1].strip()[len(\"Starting items:\"):].split(\", \")]\n",
    "    operation = lines[2].strip()[len(\"Operation: new = \"):]\n",
    "    divisible_by = int(lines[3].strip()[len(\"Test:  divisible by\"):])\n",
    "    on_true = int(lines[4].strip()[len(\"If true: throw to monkey \"):])\n",
    "    on_false = int(lines[5].strip()[len(\"If false: throw to monkey \")])\n",
    "    operation = eval(f\"lambda old: {operation}\")\n",
    "\n",
    "    return Monkey(\n",
    "        index=index,\n",
    "        items=items,\n",
    "        operation=operation,\n",
    "        divisible_by=divisible_by,\n",
    "        on_true=on_true,\n",
    "        on_false=on_false) \n",
    "\n",
    "\n",
    "def parse(s: str) -> list[Monkey]:\n",
    "    monkeys = [parse_monkey(monkey) for monkey in s.split(\"\\n\\n\")]\n",
    "    return monkeys\n",
    "\n",
    "\n",
    "def calculate(monkey, item, scale):\n",
    "    return (value := math.trunc(monkey.operation(item) // scale), (value % monkey.divisible_by == 0))\n",
    "\n",
    "\n",
    "def monkey_business(monkeys: list[Monkey], num_rounds: int, scale: float) -> int:\n",
    "    # Calculate monkey business :-)\n",
    "    counters = [0] * len(monkeys)\n",
    "    \n",
    "    limit = 1\n",
    "    for monkey in monkeys:\n",
    "        limit *= monkey.divisible_by\n",
    "    \n",
    "    for round_number in range(num_rounds):\n",
    "        for i, monkey in enumerate(monkeys):\n",
    "            counters[i] += len(monkey.items)\n",
    "            items = [\n",
    "                # limit prevents from growing uncontrollably\n",
    "                # while retaining ability to test for divisibility\n",
    "                # down the road.\n",
    "                calculate(monkey, int(item) % limit, scale)\n",
    "                for item in monkey.items\n",
    "            ]\n",
    "            monkey.items.clear()\n",
    "            for value, is_divisible in items:\n",
    "                if is_divisible:\n",
    "                    monkeys[monkey.on_true].items.append(value)\n",
    "                else:\n",
    "                    monkeys[monkey.on_false].items.append(value)\n",
    "    first, second, *_ = sorted(counters, reverse=True)\n",
    "    return first * second"
   ]
  },
  {
   "cell_type": "code",
   "execution_count": null,
   "id": "51e35d17",
   "metadata": {},
   "outputs": [],
   "source": [
    "def part_1(s: str) -> int:\n",
    "    monkeys = parse(s)\n",
    "    return monkey_business(monkeys, 20, 3)"
   ]
  },
  {
   "cell_type": "code",
   "execution_count": null,
   "id": "28178bdc",
   "metadata": {},
   "outputs": [
    {
     "data": {
      "text/plain": [
       "10605"
      ]
     },
     "execution_count": null,
     "metadata": {},
     "output_type": "execute_result"
    }
   ],
   "source": [
    "part_1(_example)"
   ]
  },
  {
   "cell_type": "code",
   "execution_count": null,
   "id": "133effb5",
   "metadata": {},
   "outputs": [
    {
     "data": {
      "text/plain": [
       "182293"
      ]
     },
     "execution_count": null,
     "metadata": {},
     "output_type": "execute_result"
    }
   ],
   "source": [
    "part_1(_test)"
   ]
  },
  {
   "cell_type": "markdown",
   "id": "48a9b17f",
   "metadata": {},
   "source": [
    "## Part 2"
   ]
  },
  {
   "cell_type": "code",
   "execution_count": null,
   "id": "b2a95aa6",
   "metadata": {},
   "outputs": [],
   "source": [
    "def part_2(s: str) -> int:\n",
    "    monkeys = parse(s)\n",
    "    return monkey_business(monkeys, 10000, 1)"
   ]
  },
  {
   "cell_type": "code",
   "execution_count": null,
   "id": "7bac6baf",
   "metadata": {},
   "outputs": [
    {
     "data": {
      "text/plain": [
       "2713310158"
      ]
     },
     "execution_count": null,
     "metadata": {},
     "output_type": "execute_result"
    }
   ],
   "source": [
    "part_2(_example)"
   ]
  },
  {
   "cell_type": "code",
   "execution_count": null,
   "id": "7a7f0592",
   "metadata": {},
   "outputs": [
    {
     "data": {
      "text/plain": [
       "54832778815"
      ]
     },
     "execution_count": null,
     "metadata": {},
     "output_type": "execute_result"
    }
   ],
   "source": [
    "part_2(_test)"
   ]
  }
 ],
 "metadata": {
  "kernelspec": {
   "display_name": "Python 3 (ipykernel)",
   "language": "python",
   "name": "python3"
  }
 },
 "nbformat": 4,
 "nbformat_minor": 5
}
