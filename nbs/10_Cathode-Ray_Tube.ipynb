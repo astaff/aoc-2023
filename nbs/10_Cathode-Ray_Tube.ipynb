{
 "cells": [
  {
   "cell_type": "markdown",
   "id": "154d2cb1",
   "metadata": {},
   "source": [
    "# Day 10: Cathode-Ray Tube"
   ]
  },
  {
   "cell_type": "markdown",
   "id": "8e5dcfd4",
   "metadata": {},
   "source": [
    "## Part 1"
   ]
  },
  {
   "cell_type": "code",
   "execution_count": null,
   "id": "a9cb17c3",
   "metadata": {},
   "outputs": [],
   "source": [
    "from aoc_2023 import core\n",
    "\n",
    "\n",
    "_example = \"\"\"addx 15\n",
    "addx -11\n",
    "addx 6\n",
    "addx -3\n",
    "addx 5\n",
    "addx -1\n",
    "addx -8\n",
    "addx 13\n",
    "addx 4\n",
    "noop\n",
    "addx -1\n",
    "addx 5\n",
    "addx -1\n",
    "addx 5\n",
    "addx -1\n",
    "addx 5\n",
    "addx -1\n",
    "addx 5\n",
    "addx -1\n",
    "addx -35\n",
    "addx 1\n",
    "addx 24\n",
    "addx -19\n",
    "addx 1\n",
    "addx 16\n",
    "addx -11\n",
    "noop\n",
    "noop\n",
    "addx 21\n",
    "addx -15\n",
    "noop\n",
    "noop\n",
    "addx -3\n",
    "addx 9\n",
    "addx 1\n",
    "addx -3\n",
    "addx 8\n",
    "addx 1\n",
    "addx 5\n",
    "noop\n",
    "noop\n",
    "noop\n",
    "noop\n",
    "noop\n",
    "addx -36\n",
    "noop\n",
    "addx 1\n",
    "addx 7\n",
    "noop\n",
    "noop\n",
    "noop\n",
    "addx 2\n",
    "addx 6\n",
    "noop\n",
    "noop\n",
    "noop\n",
    "noop\n",
    "noop\n",
    "addx 1\n",
    "noop\n",
    "noop\n",
    "addx 7\n",
    "addx 1\n",
    "noop\n",
    "addx -13\n",
    "addx 13\n",
    "addx 7\n",
    "noop\n",
    "addx 1\n",
    "addx -33\n",
    "noop\n",
    "noop\n",
    "noop\n",
    "addx 2\n",
    "noop\n",
    "noop\n",
    "noop\n",
    "addx 8\n",
    "noop\n",
    "addx -1\n",
    "addx 2\n",
    "addx 1\n",
    "noop\n",
    "addx 17\n",
    "addx -9\n",
    "addx 1\n",
    "addx 1\n",
    "addx -3\n",
    "addx 11\n",
    "noop\n",
    "noop\n",
    "addx 1\n",
    "noop\n",
    "addx 1\n",
    "noop\n",
    "noop\n",
    "addx -13\n",
    "addx -19\n",
    "addx 1\n",
    "addx 3\n",
    "addx 26\n",
    "addx -30\n",
    "addx 12\n",
    "addx -1\n",
    "addx 3\n",
    "addx 1\n",
    "noop\n",
    "noop\n",
    "noop\n",
    "addx -9\n",
    "addx 18\n",
    "addx 1\n",
    "addx 2\n",
    "noop\n",
    "noop\n",
    "addx 9\n",
    "noop\n",
    "noop\n",
    "noop\n",
    "addx -1\n",
    "addx 2\n",
    "addx -37\n",
    "addx 1\n",
    "addx 3\n",
    "noop\n",
    "addx 15\n",
    "addx -21\n",
    "addx 22\n",
    "addx -6\n",
    "addx 1\n",
    "noop\n",
    "addx 2\n",
    "addx 1\n",
    "noop\n",
    "addx -10\n",
    "noop\n",
    "noop\n",
    "addx 20\n",
    "addx 1\n",
    "addx 2\n",
    "addx 2\n",
    "addx -6\n",
    "addx -11\n",
    "noop\n",
    "noop\n",
    "noop\"\"\"\n",
    "\n",
    "_test = core.read_input(\"../data/day_10.txt\")"
   ]
  },
  {
   "cell_type": "code",
   "execution_count": null,
   "id": "512b4fcc",
   "metadata": {},
   "outputs": [],
   "source": [
    "from functools import reduce\n",
    "\n",
    "\n",
    "def process_command(acc: list[int], command: str) -> list[int]:\n",
    "    if command == \"noop\":\n",
    "        return acc + [acc[-1]]\n",
    "    else:\n",
    "        operator, value_str = command.split(\" \")\n",
    "        value = int(value_str)\n",
    "        return acc + [acc[-1], acc[-1] + value]\n",
    "\n",
    "    \n",
    "def part_1(s: str) -> int:\n",
    "    states = [0] + reduce(process_command, s.split(\"\\n\"), [1])\n",
    "    return sum(\n",
    "        register * i\n",
    "        for i, register in enumerate(states)\n",
    "        if i in (20, 60, 100, 140, 180, 220)\n",
    "    )"
   ]
  },
  {
   "cell_type": "code",
   "execution_count": null,
   "id": "5317aaa1",
   "metadata": {},
   "outputs": [
    {
     "data": {
      "text/plain": [
       "13140"
      ]
     },
     "execution_count": null,
     "metadata": {},
     "output_type": "execute_result"
    }
   ],
   "source": [
    "part_1(_example)"
   ]
  },
  {
   "cell_type": "code",
   "execution_count": null,
   "id": "a6abd7c4",
   "metadata": {},
   "outputs": [
    {
     "data": {
      "text/plain": [
       "15120"
      ]
     },
     "execution_count": null,
     "metadata": {},
     "output_type": "execute_result"
    }
   ],
   "source": [
    "part_1(_test)"
   ]
  },
  {
   "cell_type": "markdown",
   "id": "e8fc6cf0",
   "metadata": {},
   "source": [
    "## Part 2"
   ]
  },
  {
   "cell_type": "code",
   "execution_count": null,
   "id": "5c6ff9af",
   "metadata": {},
   "outputs": [],
   "source": [
    "def display(pixels: list[int]):\n",
    "    screen = [[\".\" for _ in range(40)] for _ in range(6)]\n",
    "    for pixel in pixels:\n",
    "        screen[pixel // 40][pixel % 40] = \"#\"\n",
    "    print(\"\\n\".join(\"\".join(row) for row in screen))"
   ]
  },
  {
   "cell_type": "code",
   "execution_count": null,
   "id": "b9cf8ef4",
   "metadata": {},
   "outputs": [],
   "source": [
    "def part_2(s: str) -> int:\n",
    "    sprite_positions = reduce(process_command, s.split(\"\\n\"), [1])\n",
    "    active_pixels = [i % 240 for i in range(len(sprite_positions))]\n",
    "    return [\n",
    "        pixel\n",
    "        for sprite, pixel in zip(sprite_positions, active_pixels)\n",
    "        if abs(sprite - (pixel % 40)) <= 1\n",
    "    ]"
   ]
  },
  {
   "cell_type": "code",
   "execution_count": null,
   "id": "5abfe5a4",
   "metadata": {},
   "outputs": [
    {
     "name": "stdout",
     "output_type": "stream",
     "text": [
      "##..##..##..##..##..##..##..##..##..##..\n",
      "###...###...###...###...###...###...###.\n",
      "####....####....####....####....####....\n",
      "#####.....#####.....#####.....#####.....\n",
      "######......######......######......####\n",
      "#######.......#######.......#######.....\n"
     ]
    }
   ],
   "source": [
    "display(part_2(_example))"
   ]
  },
  {
   "cell_type": "code",
   "execution_count": null,
   "id": "8b0a14a3",
   "metadata": {},
   "outputs": [
    {
     "name": "stdout",
     "output_type": "stream",
     "text": [
      "###..#..#.###....##.###..###..#.....##..\n",
      "#..#.#.#..#..#....#.#..#.#..#.#....#..#.\n",
      "#..#.##...#..#....#.###..#..#.#....#..#.\n",
      "###..#.#..###.....#.#..#.###..#....####.\n",
      "#.#..#.#..#....#..#.#..#.#....#....#..#.\n",
      "#..#.#..#.#.....##..###..#....####.#..#.\n"
     ]
    }
   ],
   "source": [
    "display(part_2(_test))"
   ]
  }
 ],
 "metadata": {
  "kernelspec": {
   "display_name": "Python 3 (ipykernel)",
   "language": "python",
   "name": "python3"
  }
 },
 "nbformat": 4,
 "nbformat_minor": 5
}
