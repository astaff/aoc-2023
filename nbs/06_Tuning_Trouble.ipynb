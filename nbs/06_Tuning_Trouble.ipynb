{
 "cells": [
  {
   "cell_type": "markdown",
   "id": "0f03b7f1",
   "metadata": {},
   "source": [
    "# Day 6: Tuning Trouble"
   ]
  },
  {
   "cell_type": "markdown",
   "id": "8776cea9",
   "metadata": {},
   "source": [
    "## Part 1"
   ]
  },
  {
   "cell_type": "code",
   "execution_count": null,
   "id": "d615d6ba",
   "metadata": {},
   "outputs": [],
   "source": [
    "from aoc_2023 import core\n",
    "\n",
    "\n",
    "examples = [\n",
    "    \"mjqjpqmgbljsphdztnvjfqwrcgsmlb\",\n",
    "    \"bvwbjplbgvbhsrlpgdmjqwftvncz\",\n",
    "    \"nppdvjthqldpwncqszvftbrmjlhg\",\n",
    "    \"nznrnfrfntjfmvfwmzdfjlvtqnbhcprsg\",\n",
    "    \"zcfzfwzzqfrljwzlrfnpqdbhtmscgvjw\"\n",
    "]\n",
    "test = core.read_input(\"../data/day_6.txt\")"
   ]
  },
  {
   "cell_type": "code",
   "execution_count": null,
   "id": "f3dd1522",
   "metadata": {},
   "outputs": [],
   "source": [
    "def find_unique_sequence(s: str, length: int) -> int:\n",
    "    \"\"\"Returns the first occurance of the substring of a given length\n",
    "    that has all characters unique.\"\"\"\n",
    "    for index in range(0, len(s) - length):\n",
    "        if len(set(s[index:index + length])) == length:\n",
    "            return index\n",
    "    raise ValueError(\n",
    "        f\"{s} doesnt have a substring of length {length} with all unique characters.\"\n",
    "    )"
   ]
  },
  {
   "cell_type": "code",
   "execution_count": null,
   "id": "fd040e78",
   "metadata": {},
   "outputs": [],
   "source": [
    "def part_1(s: str) -> int:\n",
    "    return find_unique_sequence(s, 4) + 4"
   ]
  },
  {
   "cell_type": "code",
   "execution_count": null,
   "id": "1cac31ec",
   "metadata": {},
   "outputs": [
    {
     "data": {
      "text/plain": [
       "[7, 5, 6, 10, 11]"
      ]
     },
     "execution_count": null,
     "metadata": {},
     "output_type": "execute_result"
    }
   ],
   "source": [
    "[part_1(example) for example in examples]"
   ]
  },
  {
   "cell_type": "code",
   "execution_count": null,
   "id": "f60ec789",
   "metadata": {},
   "outputs": [
    {
     "data": {
      "text/plain": [
       "1287"
      ]
     },
     "execution_count": null,
     "metadata": {},
     "output_type": "execute_result"
    }
   ],
   "source": [
    "part_1(test)"
   ]
  },
  {
   "cell_type": "markdown",
   "id": "ce58dc5c",
   "metadata": {},
   "source": [
    "## Part 2"
   ]
  },
  {
   "cell_type": "code",
   "execution_count": null,
   "id": "5fd10308",
   "metadata": {},
   "outputs": [],
   "source": [
    "def part_2(s: str) -> int:\n",
    "    return find_unique_sequence(s, 14) + 14"
   ]
  },
  {
   "cell_type": "code",
   "execution_count": null,
   "id": "a8e08610",
   "metadata": {},
   "outputs": [
    {
     "data": {
      "text/plain": [
       "[19, 23, 23, 29, 26]"
      ]
     },
     "execution_count": null,
     "metadata": {},
     "output_type": "execute_result"
    }
   ],
   "source": [
    "[part_2(example) for example in examples]"
   ]
  },
  {
   "cell_type": "code",
   "execution_count": null,
   "id": "61d10f7f",
   "metadata": {},
   "outputs": [
    {
     "data": {
      "text/plain": [
       "3716"
      ]
     },
     "execution_count": null,
     "metadata": {},
     "output_type": "execute_result"
    }
   ],
   "source": [
    "part_2(test)"
   ]
  }
 ],
 "metadata": {
  "kernelspec": {
   "display_name": "Python 3 (ipykernel)",
   "language": "python",
   "name": "python3"
  }
 },
 "nbformat": 4,
 "nbformat_minor": 5
}
