{
 "cells": [
  {
   "cell_type": "markdown",
   "id": "945a2544",
   "metadata": {},
   "source": [
    "# Day 14: Regolith Reservoir"
   ]
  },
  {
   "cell_type": "code",
   "execution_count": null,
   "id": "3da618c2",
   "metadata": {},
   "outputs": [],
   "source": [
    "from aoc_2023 import core\n",
    "\n",
    "\n",
    "_example = \"\"\"498,4 -> 498,6 -> 496,6\n",
    "503,4 -> 502,4 -> 502,9 -> 494,9\"\"\"\n",
    "_test = core.read_input(\"../data/day_14.txt\")"
   ]
  },
  {
   "cell_type": "markdown",
   "id": "a7d8409b",
   "metadata": {},
   "source": [
    "## Part 1"
   ]
  },
  {
   "cell_type": "code",
   "execution_count": null,
   "id": "c75f4db4",
   "metadata": {},
   "outputs": [],
   "source": [
    "from typing import Callable\n",
    "\n",
    "\n",
    "Position = tuple[int, int]\n",
    "\n",
    "\n",
    "def update(scan: list[list[bool]], start: Position, finish: Position, value: bool) -> list[list[bool]]:\n",
    "    x_range, y_range = zip(start, finish)\n",
    "    x_range, y_range = sorted(x_range), sorted(y_range)\n",
    "    for x in range(x_range[0], x_range[1] + 1):\n",
    "        for y in range(y_range[0], y_range[1] + 1):\n",
    "            scan[x][y] = value\n",
    "    return scan\n",
    "\n",
    "\n",
    "def parse(s: str) -> list[list[bool]]:\n",
    "    def _position(pos: str) -> tuple[int, int]:\n",
    "        x, y = pos.split(\",\")\n",
    "        return int(x), int(y)\n",
    "\n",
    "    positions = [\n",
    "        [\n",
    "            _position(position)\n",
    "            for position in line.split(\" -> \")\n",
    "        ]\n",
    "        for line in s.split(\"\\n\")\n",
    "    ]\n",
    "    max_x = max(position[0] for position in sum(positions, []))\n",
    "    max_y = max(position[1] for position in sum(positions, []))\n",
    "\n",
    "    # Ensure there is plenty of room for sand to trickle down and\n",
    "    # not run out of boundaries in X, and accomodate platfrom form\n",
    "    # part 2 in Y.\n",
    "    scan = [[False for _ in range(max_y + 3)] for _ in range(max_x * 2)]\n",
    "\n",
    "    for series in positions:\n",
    "        for start, finish in zip(series[:-1], series[1:]):\n",
    "            update(scan, start, finish, True)\n",
    "    \n",
    "    return scan\n",
    "\n",
    "\n",
    "def run(scan: list[list[bool]], exit_condition: Callable[[int, int], bool]) -> int:\n",
    "    count = 0\n",
    "    x, y = 500, 0    \n",
    "    while True:\n",
    "        if exit_condition(x, y):\n",
    "            return count\n",
    "        if not scan[x][y + 1]:\n",
    "            y += 1\n",
    "        elif not scan[x - 1][y + 1]:\n",
    "            x -= 1\n",
    "            y += 1\n",
    "        elif not scan[x + 1][y + 1]:\n",
    "            x += 1\n",
    "            y += 1\n",
    "        else:\n",
    "            count += 1\n",
    "            update_scan(scan, (x, y), (x, y), True)\n",
    "            x, y = 500, 0"
   ]
  },
  {
   "cell_type": "code",
   "execution_count": null,
   "id": "806ba52d",
   "metadata": {},
   "outputs": [],
   "source": [
    "def part_1(s: str):\n",
    "    scan = parse(s)\n",
    "    max_y = len(scan[0]) - 1\n",
    "    return run(scan, lambda x, y: y == max_y)"
   ]
  },
  {
   "cell_type": "code",
   "execution_count": null,
   "id": "ef5771e6",
   "metadata": {},
   "outputs": [
    {
     "data": {
      "text/plain": [
       "24"
      ]
     },
     "execution_count": null,
     "metadata": {},
     "output_type": "execute_result"
    }
   ],
   "source": [
    "part_1(_example)"
   ]
  },
  {
   "cell_type": "code",
   "execution_count": null,
   "id": "41c114db",
   "metadata": {},
   "outputs": [
    {
     "data": {
      "text/plain": [
       "1001"
      ]
     },
     "execution_count": null,
     "metadata": {},
     "output_type": "execute_result"
    }
   ],
   "source": [
    "part_1(_test)"
   ]
  },
  {
   "cell_type": "markdown",
   "id": "35016136",
   "metadata": {},
   "source": [
    "## Part 2"
   ]
  },
  {
   "cell_type": "code",
   "execution_count": null,
   "id": "41f6e4bf",
   "metadata": {},
   "outputs": [],
   "source": [
    "def part_2(s: str):\n",
    "    scan = parse(s)\n",
    "    max_x = len(scan) - 1\n",
    "    max_y = len(scan[0]) - 1\n",
    "    update(scan, (0, max_y), (max_x, max_y), True)\n",
    "\n",
    "    return run(scan, lambda x, y: (x, y) == (500, 0) and scan[x][y])"
   ]
  },
  {
   "cell_type": "code",
   "execution_count": null,
   "id": "adfc1ae7",
   "metadata": {},
   "outputs": [
    {
     "data": {
      "text/plain": [
       "93"
      ]
     },
     "execution_count": null,
     "metadata": {},
     "output_type": "execute_result"
    }
   ],
   "source": [
    "part_2(_example)"
   ]
  },
  {
   "cell_type": "code",
   "execution_count": null,
   "id": "814286c7",
   "metadata": {},
   "outputs": [
    {
     "data": {
      "text/plain": [
       "27976"
      ]
     },
     "execution_count": null,
     "metadata": {},
     "output_type": "execute_result"
    }
   ],
   "source": [
    "part_2(_test)"
   ]
  }
 ],
 "metadata": {
  "kernelspec": {
   "display_name": "Python 3 (ipykernel)",
   "language": "python",
   "name": "python3"
  }
 },
 "nbformat": 4,
 "nbformat_minor": 5
}
