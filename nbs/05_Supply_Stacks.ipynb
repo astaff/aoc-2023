{
 "cells": [
  {
   "cell_type": "markdown",
   "id": "e9e03af2",
   "metadata": {},
   "source": [
    "# Day 5: Supply Stacks"
   ]
  },
  {
   "cell_type": "markdown",
   "id": "8c1f7703",
   "metadata": {},
   "source": [
    "## Part 1"
   ]
  },
  {
   "cell_type": "code",
   "execution_count": null,
   "id": "f25e5abe",
   "metadata": {},
   "outputs": [],
   "source": [
    "from aoc_2023 import core\n",
    "\n",
    "\n",
    "_example = \"\"\"\n",
    "    [D]    \n",
    "[N] [C]    \n",
    "[Z] [M] [P]\n",
    " 1   2   3 \n",
    "\n",
    "move 1 from 2 to 1\n",
    "move 3 from 1 to 3\n",
    "move 2 from 2 to 1\n",
    "move 1 from 1 to 2\"\"\"[1:]  # NOTE: the original exapmle doesn't contain a leading \\n.\n",
    "_test = core.read_input(\"../data/day_5.txt\")"
   ]
  },
  {
   "cell_type": "code",
   "execution_count": null,
   "id": "3d0bb3ad",
   "metadata": {},
   "outputs": [],
   "source": [
    "import re\n",
    "\n",
    "from dataclasses import dataclass\n",
    "\n",
    "\n",
    "@dataclass(frozen=True)\n",
    "class Move:\n",
    "    num: int\n",
    "    src: int\n",
    "    dst: int\n",
    "\n",
    "\n",
    "def parse(s: str) -> tuple[list[list[str]], list[Move]]:\n",
    "    state, moves = s.split(\"\\n\\n\")\n",
    "    *rows, axis = state.split(\"\\n\")\n",
    "    n_cols = int([char for char in axis.split(\" \") if char][-1])\n",
    "\n",
    "    rows = [\n",
    "        [item if item != ' ' else None for item in row[1::4]]\n",
    "        for row in rows\n",
    "    ]\n",
    "    state = [[item for item in reversed(col) if item] for col in zip(*rows)]\n",
    "    \n",
    "    moves = [\n",
    "        Move(*[int(n) for n in match])\n",
    "        for match in re.findall(r\".+ (\\d+) .+ (\\d+) .+ (\\d+)\", moves)\n",
    "    ]\n",
    "\n",
    "    return state, moves"
   ]
  },
  {
   "cell_type": "code",
   "execution_count": null,
   "id": "5252d130",
   "metadata": {},
   "outputs": [],
   "source": [
    "def part_1(s: str) -> str:\n",
    "    state, moves = parse(s)\n",
    "    for move in moves:\n",
    "        state[move.dst - 1].extend(reversed(state[move.src - 1][-move.num:]))\n",
    "        del state[move.src - 1][-move.num:]\n",
    "    return ''.join(stack[-1] for stack in state)"
   ]
  },
  {
   "cell_type": "code",
   "execution_count": null,
   "id": "78aa2b40",
   "metadata": {},
   "outputs": [
    {
     "data": {
      "text/plain": [
       "'CMZ'"
      ]
     },
     "execution_count": null,
     "metadata": {},
     "output_type": "execute_result"
    }
   ],
   "source": [
    "part_1(_example)"
   ]
  },
  {
   "cell_type": "code",
   "execution_count": null,
   "id": "ca693608",
   "metadata": {},
   "outputs": [
    {
     "data": {
      "text/plain": [
       "'WCZTHTMPS'"
      ]
     },
     "execution_count": null,
     "metadata": {},
     "output_type": "execute_result"
    }
   ],
   "source": [
    "part_1(_test)"
   ]
  },
  {
   "cell_type": "markdown",
   "id": "8ba7f845",
   "metadata": {},
   "source": [
    "## Part 2"
   ]
  },
  {
   "cell_type": "code",
   "execution_count": null,
   "id": "9725365e",
   "metadata": {},
   "outputs": [],
   "source": [
    "def part_2(s: str) -> str:\n",
    "    state, moves = parse(s)\n",
    "    for move in moves:\n",
    "        state[move.dst - 1].extend(state[move.src - 1][-move.num:])\n",
    "        del state[move.src - 1][-move.num:]\n",
    "    return ''.join(stack[-1] if stack else \" \" for stack in state)"
   ]
  },
  {
   "cell_type": "code",
   "execution_count": null,
   "id": "2b068b9d",
   "metadata": {},
   "outputs": [
    {
     "data": {
      "text/plain": [
       "'MCD'"
      ]
     },
     "execution_count": null,
     "metadata": {},
     "output_type": "execute_result"
    }
   ],
   "source": [
    "part_2(_example)"
   ]
  },
  {
   "cell_type": "code",
   "execution_count": null,
   "id": "90ce4a44",
   "metadata": {},
   "outputs": [
    {
     "data": {
      "text/plain": [
       "'BLSGJSDTS'"
      ]
     },
     "execution_count": null,
     "metadata": {},
     "output_type": "execute_result"
    }
   ],
   "source": [
    "part_2(_test)"
   ]
  }
 ],
 "metadata": {
  "kernelspec": {
   "display_name": "Python 3 (ipykernel)",
   "language": "python",
   "name": "python3"
  }
 },
 "nbformat": 4,
 "nbformat_minor": 5
}
