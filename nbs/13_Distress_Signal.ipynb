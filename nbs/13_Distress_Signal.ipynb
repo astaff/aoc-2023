{
 "cells": [
  {
   "cell_type": "markdown",
   "id": "24669902",
   "metadata": {},
   "source": [
    "# Day 13: Distress Signal"
   ]
  },
  {
   "cell_type": "code",
   "execution_count": null,
   "id": "e95ec56f",
   "metadata": {},
   "outputs": [],
   "source": [
    "from aoc_2023 import core\n",
    "\n",
    "\n",
    "_example = \"\"\"[1,1,3,1,1]\n",
    "[1,1,5,1,1]\n",
    "\n",
    "[[1],[2,3,4]]\n",
    "[[1],4]\n",
    "\n",
    "[9]\n",
    "[[8,7,6]]\n",
    "\n",
    "[[4,4],4,4]\n",
    "[[4,4],4,4,4]\n",
    "\n",
    "[7,7,7,7]\n",
    "[7,7,7]\n",
    "\n",
    "[]\n",
    "[3]\n",
    "\n",
    "[[[]]]\n",
    "[[]]\n",
    "\n",
    "[1,[2,[3,[4,[5,6,7]]]],8,9]\n",
    "[1,[2,[3,[4,[5,6,0]]]],8,9]\"\"\"\n",
    "_test = core.read_input(\"../data/day_13.txt\")"
   ]
  },
  {
   "cell_type": "code",
   "execution_count": null,
   "id": "793c88ac",
   "metadata": {},
   "outputs": [],
   "source": [
    "def parse(s: str) -> list[tuple[list, list]]:\n",
    "    res = []\n",
    "    for pair in s.split(\"\\n\\n\"):\n",
    "        a, b = pair.split(\"\\n\")\n",
    "        res += [(eval(a), eval(b))]\n",
    "    return res"
   ]
  },
  {
   "cell_type": "code",
   "execution_count": null,
   "id": "c6a151c0",
   "metadata": {},
   "outputs": [],
   "source": [
    "def ordered(a: list | int, b: list | int) -> bool | None:\n",
    "    if isinstance(a, int) and isinstance(b, int):\n",
    "        if a == b:\n",
    "            return None\n",
    "        return a < b\n",
    "    if isinstance(a, list) and isinstance(b, list):\n",
    "        for x, y in zip(a, b):\n",
    "            if (value := ordered(x, y)) is not None:\n",
    "                return value\n",
    "        if len(a) == len(b):\n",
    "            return None\n",
    "        return len(a) < len(b)\n",
    "    if isinstance(a, list) and isinstance(b, int):\n",
    "        return ordered(a, [b])\n",
    "    if isinstance(a, int) and isinstance(b, list):\n",
    "        return ordered([a], b)"
   ]
  },
  {
   "cell_type": "code",
   "execution_count": null,
   "id": "d31f6325",
   "metadata": {},
   "outputs": [],
   "source": [
    "def part_1(s: str) -> int:\n",
    "    return sum(\n",
    "        (i + 1)\n",
    "        for i, (a, b) in enumerate(parse(s))\n",
    "        if ordered(a, b))       "
   ]
  },
  {
   "cell_type": "code",
   "execution_count": null,
   "id": "2f32cb89",
   "metadata": {},
   "outputs": [
    {
     "data": {
      "text/plain": [
       "13"
      ]
     },
     "execution_count": null,
     "metadata": {},
     "output_type": "execute_result"
    }
   ],
   "source": [
    "part_1(_example)"
   ]
  },
  {
   "cell_type": "code",
   "execution_count": null,
   "id": "cac75193",
   "metadata": {},
   "outputs": [
    {
     "data": {
      "text/plain": [
       "6072"
      ]
     },
     "execution_count": null,
     "metadata": {},
     "output_type": "execute_result"
    }
   ],
   "source": [
    "part_1(_test)"
   ]
  },
  {
   "cell_type": "code",
   "execution_count": null,
   "id": "35708361",
   "metadata": {},
   "outputs": [],
   "source": [
    "import functools\n",
    "\n",
    "\n",
    "def part_2(s: str) -> int:\n",
    "    divider_packets = [[[2]], [[6]]]\n",
    "    packets = sum([list(item) for item in parse(s)], []) + divider_packets\n",
    "    packets = sorted(\n",
    "        packets,\n",
    "        key=functools.cmp_to_key(lambda a, b: -1 if ordered(a, b) else 1),\n",
    "        reverse=False)\n",
    "    return functools.reduce(\n",
    "        lambda acc, packet: acc * (packets.index(packet) + 1),\n",
    "        divider_packets,\n",
    "        1)"
   ]
  },
  {
   "cell_type": "code",
   "execution_count": null,
   "id": "6920a0e8",
   "metadata": {},
   "outputs": [
    {
     "data": {
      "text/plain": [
       "140"
      ]
     },
     "execution_count": null,
     "metadata": {},
     "output_type": "execute_result"
    }
   ],
   "source": [
    "part_2(_example)"
   ]
  },
  {
   "cell_type": "code",
   "execution_count": null,
   "id": "fae10cd5",
   "metadata": {},
   "outputs": [
    {
     "data": {
      "text/plain": [
       "22184"
      ]
     },
     "execution_count": null,
     "metadata": {},
     "output_type": "execute_result"
    }
   ],
   "source": [
    "part_2(_test)"
   ]
  }
 ],
 "metadata": {
  "kernelspec": {
   "display_name": "Python 3 (ipykernel)",
   "language": "python",
   "name": "python3"
  }
 },
 "nbformat": 4,
 "nbformat_minor": 5
}
