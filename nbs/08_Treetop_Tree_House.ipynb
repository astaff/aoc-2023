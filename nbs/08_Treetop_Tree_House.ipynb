{
 "cells": [
  {
   "cell_type": "markdown",
   "id": "d1c87f8a",
   "metadata": {},
   "source": [
    "# Day 8: Treetop Tree House"
   ]
  },
  {
   "cell_type": "markdown",
   "id": "3a496317",
   "metadata": {},
   "source": [
    "## Part 1"
   ]
  },
  {
   "cell_type": "code",
   "execution_count": null,
   "id": "c3f3f2ff",
   "metadata": {},
   "outputs": [],
   "source": [
    "from aoc_2023 import core\n",
    "\n",
    "\n",
    "_example = \"\"\"30373\n",
    "25512\n",
    "65332\n",
    "33549\n",
    "35390\"\"\"\n",
    "_test = core.read_input(\"../data/day_8.txt\")"
   ]
  },
  {
   "cell_type": "code",
   "execution_count": null,
   "id": "790adf3c",
   "metadata": {},
   "outputs": [],
   "source": [
    "from typing import Sequence, Generator\n",
    "\n",
    "\n",
    "def parse(s: str) -> list[list[int]]:\n",
    "    return [\n",
    "        [int(h) for h in line]\n",
    "        for line in s.split(\"\\n\")\n",
    "    ]\n",
    "\n",
    "\n",
    "def transpose(x: list[list[int]]) -> list[list[int]]:\n",
    "    return list(zip(*x))"
   ]
  },
  {
   "cell_type": "code",
   "execution_count": null,
   "id": "e94a5e6d",
   "metadata": {},
   "outputs": [],
   "source": [
    "def visible_trees(trees: Sequence[tuple[int, int]]) -> Generator[int, None, None]:\n",
    "    max_h = -1\n",
    "    for i, h in trees:\n",
    "        if h > max_h:\n",
    "            yield i\n",
    "            max_h = h\n",
    "            \n",
    "            \n",
    "\n",
    "def part_1(s: str) -> int:\n",
    "    trees = parse(s)\n",
    "    res = []\n",
    "    for i, row in enumerate(trees):\n",
    "        res += [(i, j) for j in visible_trees(enumerate(row))]\n",
    "        res += [(i, j) for j in visible_trees(reversed(list(enumerate(row))))]\n",
    "\n",
    "    for j, row in enumerate(transpose(trees)):\n",
    "        res += [(i, j) for i in visible_trees(enumerate(row))]\n",
    "        res += [(i, j) for i in visible_trees(reversed(list(enumerate(row))))]\n",
    "        \n",
    "    return len(set(res))"
   ]
  },
  {
   "cell_type": "code",
   "execution_count": null,
   "id": "9bbce692",
   "metadata": {},
   "outputs": [
    {
     "data": {
      "text/plain": [
       "21"
      ]
     },
     "execution_count": null,
     "metadata": {},
     "output_type": "execute_result"
    }
   ],
   "source": [
    "part_1(_example)"
   ]
  },
  {
   "cell_type": "code",
   "execution_count": null,
   "id": "cd99aec1",
   "metadata": {},
   "outputs": [
    {
     "data": {
      "text/plain": [
       "1801"
      ]
     },
     "execution_count": null,
     "metadata": {},
     "output_type": "execute_result"
    }
   ],
   "source": [
    "part_1(_test)"
   ]
  },
  {
   "cell_type": "markdown",
   "id": "ef9fa9ee",
   "metadata": {},
   "source": [
    "## Part 2"
   ]
  },
  {
   "cell_type": "code",
   "execution_count": null,
   "id": "052187ee",
   "metadata": {},
   "outputs": [],
   "source": [
    "from itertools import takewhile\n",
    "\n",
    "def visible_range(trees: list[int], reference: int) -> int:\n",
    "    # NOTE: un-obscructed view until the end of line is the same\n",
    "    # as un-bsctructed view until the last tree in the line.\n",
    "    return min(len(trees), len(list(takewhile(lambda h: h < reference, trees))) + 1)\n",
    "\n",
    "\n",
    "def part_2(s: str) -> int:\n",
    "    trees = parse(s)\n",
    "    trees_t = transpose(trees)\n",
    "    acc = []\n",
    "    for i in range(1, len(trees) - 1):\n",
    "        for j in range(1, len(trees_t) - 1):\n",
    "            reference = trees[i][j]\n",
    "            right = visible_range(trees[i][j+1:], reference)\n",
    "            left = visible_range(trees[i][j-1::-1], reference)\n",
    "            up = visible_range(trees_t[j][i-1::-1], reference)\n",
    "            down = visible_range(trees_t[j][i+1:], reference)\n",
    "            acc += [right * left * up * down]\n",
    "    return max(acc)\n",
    "    "
   ]
  },
  {
   "cell_type": "code",
   "execution_count": null,
   "id": "283afa8b",
   "metadata": {},
   "outputs": [
    {
     "data": {
      "text/plain": [
       "8"
      ]
     },
     "execution_count": null,
     "metadata": {},
     "output_type": "execute_result"
    }
   ],
   "source": [
    "part_2(_example)"
   ]
  },
  {
   "cell_type": "code",
   "execution_count": null,
   "id": "2977bfb3",
   "metadata": {},
   "outputs": [
    {
     "data": {
      "text/plain": [
       "209880"
      ]
     },
     "execution_count": null,
     "metadata": {},
     "output_type": "execute_result"
    }
   ],
   "source": [
    "part_2(_test)"
   ]
  }
 ],
 "metadata": {
  "kernelspec": {
   "display_name": "Python 3 (ipykernel)",
   "language": "python",
   "name": "python3"
  }
 },
 "nbformat": 4,
 "nbformat_minor": 5
}
